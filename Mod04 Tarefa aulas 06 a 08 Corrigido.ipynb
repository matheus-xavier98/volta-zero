{
 "cells": [
  {
   "cell_type": "markdown",
   "metadata": {},
   "source": [
    "# Tarefa 03\n",
    "\n",
    "- Leia os enunciados com atenção\n",
    "- Saiba que pode haver mais de uma resposta correta\n",
    "- Insira novas células de código sempre que achar necessário\n",
    "- Em caso de dúvidas, procure os Tutores\n",
    "- Divirta-se :)"
   ]
  },
  {
   "cell_type": "code",
   "execution_count": 1,
   "metadata": {},
   "outputs": [],
   "source": [
    "import pandas as pd\n",
    "import requests"
   ]
  },
  {
   "cell_type": "markdown",
   "metadata": {},
   "source": [
    "####  1) Lendo de APIs\n",
    "Vimos em aula como carregar dados públicos do governo através de um API (*Application Programming Interface*). No exemplo de aula, baixamos os dados de pedidos de verificação de limites (PVL) realizados por estados, e selecionamos apenas aqueles referentes ao estado de São Paulo.\n",
    "\n",
    "1. Repita os mesmos passos feitos em aula, mas selecione os PVLs realizados por municípios no estado do Rio de Janeiro.\n",
    "2. Quais são os três *status* das solicitações mais frequentes na base? Quais são suas frequências?\n",
    "3. Construa uma nova variável que contenha o ano do **status**. Observe que ```data_status``` vem como tipo *object* no **DataFrame**. Dica: você pode usar o método ```.str``` para transformar o tipo da variável em string, em seguida um método como [**slice()**](https://pandas.pydata.org/docs/reference/api/pandas.Series.str.slice.html) ou [**split()**](https://pandas.pydata.org/pandas-docs/stable/reference/api/pandas.Series.str.split.html).\n",
    "4. Indique a frequência de cada ano do campo construído no item (3)."
   ]
  },
  {
   "cell_type": "code",
   "execution_count": 2,
   "metadata": {},
   "outputs": [
    {
     "data": {
      "text/html": [
       "<div>\n",
       "<style scoped>\n",
       "    .dataframe tbody tr th:only-of-type {\n",
       "        vertical-align: middle;\n",
       "    }\n",
       "\n",
       "    .dataframe tbody tr th {\n",
       "        vertical-align: top;\n",
       "    }\n",
       "\n",
       "    .dataframe thead th {\n",
       "        text-align: right;\n",
       "    }\n",
       "</style>\n",
       "<table border=\"1\" class=\"dataframe\">\n",
       "  <thead>\n",
       "    <tr style=\"text-align: right;\">\n",
       "      <th></th>\n",
       "      <th>id_pleito</th>\n",
       "      <th>tipo_interessado</th>\n",
       "      <th>interessado</th>\n",
       "      <th>cod_ibge</th>\n",
       "      <th>uf</th>\n",
       "      <th>num_pvl</th>\n",
       "      <th>status</th>\n",
       "      <th>num_processo</th>\n",
       "      <th>data_protocolo</th>\n",
       "      <th>tipo_operacao</th>\n",
       "      <th>finalidade</th>\n",
       "      <th>tipo_credor</th>\n",
       "      <th>credor</th>\n",
       "      <th>moeda</th>\n",
       "      <th>valor</th>\n",
       "      <th>pvl_assoc_divida</th>\n",
       "      <th>pvl_contradado_credor</th>\n",
       "      <th>data_status</th>\n",
       "    </tr>\n",
       "  </thead>\n",
       "  <tbody>\n",
       "    <tr>\n",
       "      <th>0</th>\n",
       "      <td>5645</td>\n",
       "      <td>Estado</td>\n",
       "      <td>Rio de Janeiro</td>\n",
       "      <td>33</td>\n",
       "      <td>RJ</td>\n",
       "      <td>None</td>\n",
       "      <td>Encaminhado à PGFN com manifestação técnica fa...</td>\n",
       "      <td>17944.000161/2013-79</td>\n",
       "      <td>2013-04-08T03:00:00Z</td>\n",
       "      <td>Operação contratual interna (com garantia da U...</td>\n",
       "      <td>Infraestrutura</td>\n",
       "      <td>Instituição Financeira Nacional</td>\n",
       "      <td>Banco Nacional de Desenvolvimento Econômico e ...</td>\n",
       "      <td>Real</td>\n",
       "      <td>3.031405e+09</td>\n",
       "      <td>1</td>\n",
       "      <td>0</td>\n",
       "      <td>06/05/2013</td>\n",
       "    </tr>\n",
       "    <tr>\n",
       "      <th>1</th>\n",
       "      <td>5630</td>\n",
       "      <td>Estado</td>\n",
       "      <td>Rio de Janeiro</td>\n",
       "      <td>33</td>\n",
       "      <td>RJ</td>\n",
       "      <td>None</td>\n",
       "      <td>Encaminhado à PGFN com manifestação técnica fa...</td>\n",
       "      <td>17944.000158/2013-55</td>\n",
       "      <td>2013-10-22T02:00:00Z</td>\n",
       "      <td>Operação contratual externa (com garantia da U...</td>\n",
       "      <td>Fortalecimento Institucional</td>\n",
       "      <td>Instituição Financeira Internacional</td>\n",
       "      <td>Banco Internacional para Reconstrução e Desenv...</td>\n",
       "      <td>Dólar dos EUA</td>\n",
       "      <td>4.800000e+07</td>\n",
       "      <td>1</td>\n",
       "      <td>0</td>\n",
       "      <td>21/11/2013</td>\n",
       "    </tr>\n",
       "    <tr>\n",
       "      <th>2</th>\n",
       "      <td>5635</td>\n",
       "      <td>Estado</td>\n",
       "      <td>Rio de Janeiro</td>\n",
       "      <td>33</td>\n",
       "      <td>RJ</td>\n",
       "      <td>None</td>\n",
       "      <td>Encaminhado à PGFN com manifestação técnica fa...</td>\n",
       "      <td>17944.000159/2013-08</td>\n",
       "      <td>2013-04-08T03:00:00Z</td>\n",
       "      <td>Operação contratual interna (com garantia da U...</td>\n",
       "      <td>Infraestrutura</td>\n",
       "      <td>Instituição Financeira Nacional</td>\n",
       "      <td>Banco do Brasil S/A</td>\n",
       "      <td>Real</td>\n",
       "      <td>3.135800e+09</td>\n",
       "      <td>1</td>\n",
       "      <td>0</td>\n",
       "      <td>06/05/2013</td>\n",
       "    </tr>\n",
       "    <tr>\n",
       "      <th>3</th>\n",
       "      <td>5640</td>\n",
       "      <td>Estado</td>\n",
       "      <td>Rio de Janeiro</td>\n",
       "      <td>33</td>\n",
       "      <td>RJ</td>\n",
       "      <td>None</td>\n",
       "      <td>Arquivado a pedido</td>\n",
       "      <td>17944.000160/2013-24</td>\n",
       "      <td>2013-03-18T03:00:00Z</td>\n",
       "      <td>Operação contratual externa (com garantia da U...</td>\n",
       "      <td>Infraestrutura</td>\n",
       "      <td>Instituição Financeira Internacional</td>\n",
       "      <td>Bank of America Merrill Lynch</td>\n",
       "      <td>Dólar dos EUA</td>\n",
       "      <td>7.164179e+08</td>\n",
       "      <td>0</td>\n",
       "      <td>0</td>\n",
       "      <td>29/07/2013</td>\n",
       "    </tr>\n",
       "    <tr>\n",
       "      <th>4</th>\n",
       "      <td>9102</td>\n",
       "      <td>Estado</td>\n",
       "      <td>Rio de Janeiro</td>\n",
       "      <td>33</td>\n",
       "      <td>RJ</td>\n",
       "      <td>None</td>\n",
       "      <td>Encaminhado à PGFN com manifestação técnica fa...</td>\n",
       "      <td>17944.000903/2009-80</td>\n",
       "      <td>2009-07-29T03:00:00Z</td>\n",
       "      <td>Operação contratual interna (com garantia da U...</td>\n",
       "      <td>PEF - Programa Emergencial de Financiamento do...</td>\n",
       "      <td>Instituição Financeira Nacional</td>\n",
       "      <td>Banco do Brasil S/A</td>\n",
       "      <td>Real</td>\n",
       "      <td>6.110800e+07</td>\n",
       "      <td>1</td>\n",
       "      <td>0</td>\n",
       "      <td>06/08/2009</td>\n",
       "    </tr>\n",
       "  </tbody>\n",
       "</table>\n",
       "</div>"
      ],
      "text/plain": [
       "   id_pleito tipo_interessado     interessado  cod_ibge  uf num_pvl  \\\n",
       "0       5645           Estado  Rio de Janeiro        33  RJ    None   \n",
       "1       5630           Estado  Rio de Janeiro        33  RJ    None   \n",
       "2       5635           Estado  Rio de Janeiro        33  RJ    None   \n",
       "3       5640           Estado  Rio de Janeiro        33  RJ    None   \n",
       "4       9102           Estado  Rio de Janeiro        33  RJ    None   \n",
       "\n",
       "                                              status          num_processo  \\\n",
       "0  Encaminhado à PGFN com manifestação técnica fa...  17944.000161/2013-79   \n",
       "1  Encaminhado à PGFN com manifestação técnica fa...  17944.000158/2013-55   \n",
       "2  Encaminhado à PGFN com manifestação técnica fa...  17944.000159/2013-08   \n",
       "3                                 Arquivado a pedido  17944.000160/2013-24   \n",
       "4  Encaminhado à PGFN com manifestação técnica fa...  17944.000903/2009-80   \n",
       "\n",
       "         data_protocolo                                      tipo_operacao  \\\n",
       "0  2013-04-08T03:00:00Z  Operação contratual interna (com garantia da U...   \n",
       "1  2013-10-22T02:00:00Z  Operação contratual externa (com garantia da U...   \n",
       "2  2013-04-08T03:00:00Z  Operação contratual interna (com garantia da U...   \n",
       "3  2013-03-18T03:00:00Z  Operação contratual externa (com garantia da U...   \n",
       "4  2009-07-29T03:00:00Z  Operação contratual interna (com garantia da U...   \n",
       "\n",
       "                                          finalidade  \\\n",
       "0                                     Infraestrutura   \n",
       "1                       Fortalecimento Institucional   \n",
       "2                                     Infraestrutura   \n",
       "3                                     Infraestrutura   \n",
       "4  PEF - Programa Emergencial de Financiamento do...   \n",
       "\n",
       "                            tipo_credor  \\\n",
       "0       Instituição Financeira Nacional   \n",
       "1  Instituição Financeira Internacional   \n",
       "2       Instituição Financeira Nacional   \n",
       "3  Instituição Financeira Internacional   \n",
       "4       Instituição Financeira Nacional   \n",
       "\n",
       "                                              credor          moeda  \\\n",
       "0  Banco Nacional de Desenvolvimento Econômico e ...           Real   \n",
       "1  Banco Internacional para Reconstrução e Desenv...  Dólar dos EUA   \n",
       "2                                Banco do Brasil S/A           Real   \n",
       "3                      Bank of America Merrill Lynch  Dólar dos EUA   \n",
       "4                                Banco do Brasil S/A           Real   \n",
       "\n",
       "          valor  pvl_assoc_divida  pvl_contradado_credor data_status  \n",
       "0  3.031405e+09                 1                      0  06/05/2013  \n",
       "1  4.800000e+07                 1                      0  21/11/2013  \n",
       "2  3.135800e+09                 1                      0  06/05/2013  \n",
       "3  7.164179e+08                 0                      0  29/07/2013  \n",
       "4  6.110800e+07                 1                      0  06/08/2009  "
      ]
     },
     "execution_count": 2,
     "metadata": {},
     "output_type": "execute_result"
    }
   ],
   "source": [
    "# 1) Seu código aqui\n",
    "url = 'https://apidatalake.tesouro.gov.br/ords/sadipem/tt/pvl?uf=RJ&tipo_interessado=Estado'\n",
    "r = requests.get(url)\n",
    "json_data = r.json()\n",
    "\n",
    "data_mf = pd.DataFrame(json_data['items'])\n",
    "data_mf.head(5)\n",
    "\n",
    "df_rj = data_mf[data_mf['interessado'] == 'Rio de Janeiro']\n",
    "df_rj.head(5)"
   ]
  },
  {
   "cell_type": "code",
   "execution_count": 3,
   "metadata": {},
   "outputs": [
    {
     "data": {
      "text/plain": [
       "status\n",
       "Encaminhado à PGFN com manifestação técnica favorável    34\n",
       "Deferido                                                 14\n",
       "Arquivado a pedido                                        3\n",
       "Arquivado por decurso de prazo                            1\n",
       "Name: count, dtype: int64"
      ]
     },
     "execution_count": 3,
     "metadata": {},
     "output_type": "execute_result"
    }
   ],
   "source": [
    "# 2) Seu código aqui\n",
    "df_rj['status'].value_counts()"
   ]
  },
  {
   "cell_type": "code",
   "execution_count": 39,
   "metadata": {},
   "outputs": [
    {
     "data": {
      "text/html": [
       "<div>\n",
       "<style scoped>\n",
       "    .dataframe tbody tr th:only-of-type {\n",
       "        vertical-align: middle;\n",
       "    }\n",
       "\n",
       "    .dataframe tbody tr th {\n",
       "        vertical-align: top;\n",
       "    }\n",
       "\n",
       "    .dataframe thead th {\n",
       "        text-align: right;\n",
       "    }\n",
       "</style>\n",
       "<table border=\"1\" class=\"dataframe\">\n",
       "  <thead>\n",
       "    <tr style=\"text-align: right;\">\n",
       "      <th></th>\n",
       "      <th>0</th>\n",
       "      <th>1</th>\n",
       "      <th>2</th>\n",
       "      <th>3</th>\n",
       "      <th>4</th>\n",
       "      <th>5</th>\n",
       "      <th>6</th>\n",
       "      <th>7</th>\n",
       "      <th>8</th>\n",
       "      <th>9</th>\n",
       "      <th>...</th>\n",
       "      <th>42</th>\n",
       "      <th>43</th>\n",
       "      <th>44</th>\n",
       "      <th>45</th>\n",
       "      <th>46</th>\n",
       "      <th>47</th>\n",
       "      <th>48</th>\n",
       "      <th>49</th>\n",
       "      <th>50</th>\n",
       "      <th>51</th>\n",
       "    </tr>\n",
       "  </thead>\n",
       "  <tbody>\n",
       "    <tr>\n",
       "      <th>data_status</th>\n",
       "      <td>2013</td>\n",
       "      <td>2013</td>\n",
       "      <td>2013</td>\n",
       "      <td>2013</td>\n",
       "      <td>2009</td>\n",
       "      <td>2014</td>\n",
       "      <td>2010</td>\n",
       "      <td>2009</td>\n",
       "      <td>2002</td>\n",
       "      <td>2006</td>\n",
       "      <td>...</td>\n",
       "      <td>2016</td>\n",
       "      <td>2012</td>\n",
       "      <td>2011</td>\n",
       "      <td>2016</td>\n",
       "      <td>2009</td>\n",
       "      <td>2012</td>\n",
       "      <td>2011</td>\n",
       "      <td>2008</td>\n",
       "      <td>2009</td>\n",
       "      <td>2016</td>\n",
       "    </tr>\n",
       "  </tbody>\n",
       "</table>\n",
       "<p>1 rows × 52 columns</p>\n",
       "</div>"
      ],
      "text/plain": [
       "               0     1     2     3     4     5     6     7     8     9   ...  \\\n",
       "data_status  2013  2013  2013  2013  2009  2014  2010  2009  2002  2006  ...   \n",
       "\n",
       "               42    43    44    45    46    47    48    49    50    51  \n",
       "data_status  2016  2012  2011  2016  2009  2012  2011  2008  2009  2016  \n",
       "\n",
       "[1 rows x 52 columns]"
      ]
     },
     "execution_count": 39,
     "metadata": {},
     "output_type": "execute_result"
    }
   ],
   "source": [
    "# 3) Seu código aqui\n",
    "ano_status = df_rj['data_status']\n",
    "df_ano = pd.to_datetime(ano_status, format = '%d/%m/%Y')\n",
    "df_ano['ano'] = df_ano.dt.year\n",
    "df_ano = pd.DataFrame(df_ano['ano'])\n",
    "df_ano.T"
   ]
  },
  {
   "cell_type": "code",
   "execution_count": 34,
   "metadata": {},
   "outputs": [
    {
     "data": {
      "text/plain": [
       "data_status\n",
       "2012    11\n",
       "2009     9\n",
       "2013     7\n",
       "2011     6\n",
       "2014     4\n",
       "2002     4\n",
       "2016     4\n",
       "2010     3\n",
       "2006     2\n",
       "2008     2\n",
       "Name: count, dtype: int64"
      ]
     },
     "execution_count": 34,
     "metadata": {},
     "output_type": "execute_result"
    }
   ],
   "source": [
    "# 4) Seu código aqui\n",
    "df_ano['ano'].value_counts()"
   ]
  },
  {
   "cell_type": "markdown",
   "metadata": {},
   "source": [
    "####  2) Melhorando a interação com o API\n",
    "Observe dois URLs de consultas diferentes, por exemplo o URL utilizado em aula, e o URL feito no exercício anterior. Compare-os e observe as diferenças.\n",
    "\n",
    "1. Faça uma função em Python que recebe como argumento o UF da consulta e o tipo de interessado (```'Estado'```ou ```Município```), e que devolve os dados da consulta no formato *DataFrame*.\n",
    "2. Quantas solicitações para o Estado podem ser consultadas para Minas Gerais com *status* em 'Arquivado por decurso de prazo' estão registradas?\n",
    "3. Qual é o município da Bahia com mais solicitações deferidas?\n",
    "4. Salve um arquivo .csv com os dados de solicitações da Bahia, com interessado = 'Estado'"
   ]
  },
  {
   "cell_type": "code",
   "execution_count": 51,
   "metadata": {},
   "outputs": [],
   "source": [
    "url2 = 'https://apidatalake.tesouro.gov.br/ords/sadipem/tt/pvl?uf=MG&tipo_interessado=Estado'\n",
    "r2 = requests.get(url2)\n",
    "json_data2 = r2.json()  \n",
    "df_mg = pd.DataFrame(json_data2['items'])\n",
    "\n",
    "url3 = 'https://apidatalake.tesouro.gov.br/ords/sadipem/tt/pvl?uf=MG&tipo_interessado=Município'\n",
    "r3 = requests.get(url3)\n",
    "json_data3 = r3.json()  \n",
    "df_mg2 = pd.DataFrame(json_data3['items'])\n",
    "\n",
    "url4 = 'https://apidatalake.tesouro.gov.br/ords/sadipem/tt/pvl?uf=BA&tipo_interessado=Estado'\n",
    "r4 = requests.get(url4)\n",
    "json_data4 = r4.json()\n",
    "df_ba = pd.DataFrame(json_data4['items'])\n",
    "\n",
    "url5 = 'https://apidatalake.tesouro.gov.br/ords/sadipem/tt/pvl?uf=BA&tipo_interessado=Município'\n",
    "r5 = requests.get(url5)\n",
    "json_data5 = r5.json()\n",
    "df_ba2 = pd.DataFrame(json_data5['items'])"
   ]
  },
  {
   "cell_type": "code",
   "execution_count": 52,
   "metadata": {},
   "outputs": [],
   "source": [
    "#1) Seu código aqui\n",
    "def consulta_pvl(df: pd.DataFrame, uf: str, tipo_interessado: str) -> pd.DataFrame:\n",
    "       \n",
    "    if uf not in df['uf'].unique():\n",
    "        print(f'Estado {uf} não encontrado no DataFrame.')\n",
    "    \n",
    "    if tipo_interessado not in ['Estado', 'Município']:\n",
    "        print('Tipo de interessado inválido. Deve ser \"Estado\" ou \"Município\"')\n",
    "\n",
    "    df_filtrado = df[(df['uf'] == uf) & (df['tipo_interessado'] == tipo_interessado)]\n",
    "\n",
    "    return df_filtrado"
   ]
  },
  {
   "cell_type": "code",
   "execution_count": 53,
   "metadata": {},
   "outputs": [
    {
     "data": {
      "text/plain": [
       "1"
      ]
     },
     "execution_count": 53,
     "metadata": {},
     "output_type": "execute_result"
    }
   ],
   "source": [
    "# 2) Seu código aqui\n",
    "contagem_mg = (df_mg['status'] == 'Arquivado por decurso de prazo').sum()\n",
    "contagem_mg"
   ]
  },
  {
   "cell_type": "code",
   "execution_count": 76,
   "metadata": {},
   "outputs": [
    {
     "data": {
      "text/plain": [
       "interessado\n",
       "Luís Eduardo Magalhães    16\n",
       "Vitória da Conquista      12\n",
       "Lauro de Freitas          11\n",
       "Barreiras                 10\n",
       "Camaçari                  10\n",
       "                          ..\n",
       "Itagibá                    1\n",
       "São Felipe                 1\n",
       "Caatiba                    1\n",
       "Santa Luzia                1\n",
       "Ribeira do Pombal          1\n",
       "Name: count, Length: 185, dtype: int64"
      ]
     },
     "execution_count": 76,
     "metadata": {},
     "output_type": "execute_result"
    }
   ],
   "source": [
    "# 3) Seu código aqui\n",
    "contagem_ba = consulta_pvl(df_ba2, 'BA', 'Município')\n",
    "filter = contagem_ba[contagem_ba['status'] == 'Deferido']\n",
    "filter['interessado'].value_counts()"
   ]
  },
  {
   "cell_type": "code",
   "execution_count": 77,
   "metadata": {},
   "outputs": [],
   "source": [
    "# 4) Seu código aqui\n",
    "df_ba.to_csv('DataFrame_Bahia_Estado.csv')"
   ]
  },
  {
   "cell_type": "code",
   "execution_count": null,
   "metadata": {},
   "outputs": [],
   "source": []
  }
 ],
 "metadata": {
  "kernelspec": {
   "display_name": "Python 3 (ipykernel)",
   "language": "python",
   "name": "python3"
  },
  "language_info": {
   "codemirror_mode": {
    "name": "ipython",
    "version": 3
   },
   "file_extension": ".py",
   "mimetype": "text/x-python",
   "name": "python",
   "nbconvert_exporter": "python",
   "pygments_lexer": "ipython3",
   "version": "3.11.7"
  }
 },
 "nbformat": 4,
 "nbformat_minor": 4
}
